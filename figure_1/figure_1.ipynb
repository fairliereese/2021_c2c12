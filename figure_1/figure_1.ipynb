{
 "cells": [
  {
   "cell_type": "code",
   "execution_count": 1,
   "id": "steady-decline",
   "metadata": {},
   "outputs": [
    {
     "name": "stdout",
     "output_type": "stream",
     "text": [
      "['/Users/fairliereese/Documents/programming/mortazavi_lab/data/2021_c2c12/figure_1', '/Users/fairliereese/miniconda3/lib/python37.zip', '/Users/fairliereese/miniconda3/lib/python3.7', '/Users/fairliereese/miniconda3/lib/python3.7/lib-dynload', '', '/Users/fairliereese/miniconda3/lib/python3.7/site-packages', '/Users/fairliereese/Documents/programming/mortazavi_lab/bin/TALON/src', '/Users/fairliereese/Documents/programming/mortazavi_lab/bin/batchglm', '/Users/fairliereese/Documents/programming/mortazavi_lab/bin/diffxpy', '/Users/fairliereese/Documents/programming/mortazavi_lab/bin/splitpipe/splitpipe', '/Users/fairliereese/Documents/programming/mortazavi_lab/bin/swan_vis', '/Users/fairliereese/miniconda3/lib/python3.7/site-packages/IPython/extensions', '/Users/fairliereese/.ipython']\n",
      "/Users/fairliereese/Documents/programming/mortazavi_lab/data/2021_c2c12\n",
      "['/Users/fairliereese/Documents/programming/mortazavi_lab/data/2021_c2c12/figure_1', '/Users/fairliereese/miniconda3/lib/python37.zip', '/Users/fairliereese/miniconda3/lib/python3.7', '/Users/fairliereese/miniconda3/lib/python3.7/lib-dynload', '', '/Users/fairliereese/miniconda3/lib/python3.7/site-packages', '/Users/fairliereese/Documents/programming/mortazavi_lab/bin/TALON/src', '/Users/fairliereese/Documents/programming/mortazavi_lab/bin/batchglm', '/Users/fairliereese/Documents/programming/mortazavi_lab/bin/diffxpy', '/Users/fairliereese/Documents/programming/mortazavi_lab/bin/splitpipe/splitpipe', '/Users/fairliereese/Documents/programming/mortazavi_lab/bin/swan_vis', '/Users/fairliereese/miniconda3/lib/python3.7/site-packages/IPython/extensions', '/Users/fairliereese/.ipython', '/Users/fairliereese/Documents/programming/mortazavi_lab/data/2021_c2c12']\n"
     ]
    }
   ],
   "source": [
    "import sys\n",
    "import os\n",
    "import seaborn as sns\n",
    "\n",
    "p = os.path.dirname(os.getcwd())\n",
    "sys.path.append(p)\n",
    "\n",
    "from scripts.utils import *\n",
    "from scripts.plotting import *\n",
    "\n",
    "sns.set_context('paper', font_scale=2)"
   ]
  },
  {
   "cell_type": "code",
   "execution_count": 3,
   "id": "current-darkness",
   "metadata": {},
   "outputs": [
    {
     "name": "stdout",
     "output_type": "stream",
     "text": [
      "['/Users/fairliereese/Documents/programming/mortazavi_lab/data/2021_c2c12/figure_1', '/Users/fairliereese/miniconda3/lib/python37.zip', '/Users/fairliereese/miniconda3/lib/python3.7', '/Users/fairliereese/miniconda3/lib/python3.7/lib-dynload', '', '/Users/fairliereese/miniconda3/lib/python3.7/site-packages', '/Users/fairliereese/Documents/programming/mortazavi_lab/bin/TALON/src', '/Users/fairliereese/Documents/programming/mortazavi_lab/bin/batchglm', '/Users/fairliereese/Documents/programming/mortazavi_lab/bin/diffxpy', '/Users/fairliereese/Documents/programming/mortazavi_lab/bin/splitpipe/splitpipe', '/Users/fairliereese/Documents/programming/mortazavi_lab/bin/swan_vis', '/Users/fairliereese/miniconda3/lib/python3.7/site-packages/IPython/extensions', '/Users/fairliereese/.ipython', '/Users/fairliereese/Documents/programming/mortazavi_lab/data/2021_c2c12/scripts/']\n"
     ]
    }
   ],
   "source": [
    "print(sys.path)"
   ]
  },
  {
   "cell_type": "code",
   "execution_count": 19,
   "id": "romantic-straight",
   "metadata": {},
   "outputs": [],
   "source": [
    "# read in talon read_annot file from sc data\n",
    "fname = '../processing/talon/sc_talon_read_annot.tsv'\n",
    "fig_o = 'figures/dt_v_randhex/'\n",
    "df = pd.read_csv(fname, sep='\\t')"
   ]
  },
  {
   "cell_type": "code",
   "execution_count": 25,
   "id": "decimal-brain",
   "metadata": {},
   "outputs": [
    {
     "name": "stdout",
     "output_type": "stream",
     "text": [
      "                     raw_bc primer_type\n",
      "0  CAAGGAGCATAGCGACTACGGTTA      bc1_dt\n",
      "1  AAGAGATCTCTTCACAGGTGGAGC      bc1_dt\n",
      "2  GATGAATCCACCTTACAGCGAAAC      bc1_dt\n",
      "3  AACTCACCGATGAATCTTCGCTAC      bc1_dt\n",
      "4  ACAGCAGAACGTATCAATCCGCGA      bc1_dt\n"
     ]
    }
   ],
   "source": [
    "fname = '/Users/fairliereese/Documents/programming/mortazavi_lab/data/c2c12_paper_2020/sc_pacbio/illumina_cell_metadata_full_bcs.tsv'\n",
    "i_df = get_illumina_metadata(fname)\n",
    "i_df = i_df[['raw_bc', 'primer_type']]\n",
    "print(i_df.head())"
   ]
  },
  {
   "cell_type": "code",
   "execution_count": null,
   "id": "strategic-frederick",
   "metadata": {},
   "outputs": [],
   "source": []
  }
 ],
 "metadata": {
  "kernelspec": {
   "display_name": "Python 3",
   "language": "python",
   "name": "python3"
  },
  "language_info": {
   "codemirror_mode": {
    "name": "ipython",
    "version": 3
   },
   "file_extension": ".py",
   "mimetype": "text/x-python",
   "name": "python",
   "nbconvert_exporter": "python",
   "pygments_lexer": "ipython3",
   "version": "3.7.4"
  }
 },
 "nbformat": 4,
 "nbformat_minor": 5
}
