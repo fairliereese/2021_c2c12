{
 "cells": [
  {
   "cell_type": "code",
   "execution_count": 2,
   "metadata": {},
   "outputs": [],
   "source": [
    "import swan_vis as swan\n",
    "\n",
    "p = os.path.dirname(os.getcwd())\n",
    "sys.path.append(p)\n",
    "\n",
    "from scripts.utils import *\n",
    "from scripts.plotting import *"
   ]
  },
  {
   "cell_type": "code",
   "execution_count": 4,
   "metadata": {},
   "outputs": [],
   "source": [
    "# output from Swan to get expression of transcript isoforms\n",
    "def get_swan_data():\n",
    "    fname = '../processing/swan/sc_iso_swan.p'\n",
    "    sg = swan.SwanGraph(fname)\n",
    "    return sg"
   ]
  },
  {
   "cell_type": "markdown",
   "metadata": {},
   "source": [
    "### Panel S2G"
   ]
  },
  {
   "cell_type": "code",
   "execution_count": 7,
   "metadata": {},
   "outputs": [
    {
     "name": "stdout",
     "output_type": "stream",
     "text": [
      "Graph from ../processing/swan/sc_iso_swan.p loaded\n",
      "\n",
      "Plotting transcripts for ENSMUSG00000028464.16\n",
      "Saving transcript path graph for ENSMUST00000107913.9 as figures/Tpm2_browser_ENSMUST00000107913.9_path.png\n",
      "Saving transcript path graph for ENCODEMT000193549 as figures/Tpm2_browser_ENCODEMT000193549_path.png\n",
      "Saving transcript path graph for ENCODEMT000193257 as figures/Tpm2_browser_ENCODEMT000193257_path.png\n",
      "Saving transcript path graph for ENSMUST00000107914.9 as figures/Tpm2_browser_ENSMUST00000107914.9_path.png\n",
      "Saving transcript path graph for ENSMUST00000030184.11 as figures/Tpm2_browser_ENSMUST00000030184.11_path.png\n",
      "Generating report for ENSMUSG00000028464.16\n"
     ]
    }
   ],
   "source": [
    "sg = get_swan_data()\n",
    "\n",
    "gname = 'Tpm2'\n",
    "dataset_groups = [['Cluster_1', 'Cluster_2', 'Cluster_3'], \n",
    "                 ['Cluster_4', 'Cluster_5'],\n",
    "                 ['Cluster_6', 'Cluster_7']]\n",
    "dataset_group_names = ['MB', 'Pax7Hi', 'MyogHi']\n",
    "\n",
    "sg.gen_report(gname, prefix='figures/{}'.format(gname),\n",
    "    heatmap=True, \n",
    "    dataset_groups=dataset_groups,\n",
    "    dataset_group_names=dataset_group_names,\n",
    "    cmap='viridis', \n",
    "    browser=True,\n",
    "    novelty=True)"
   ]
  }
 ],
 "metadata": {
  "kernelspec": {
   "display_name": "Python 3",
   "language": "python",
   "name": "python3"
  },
  "language_info": {
   "codemirror_mode": {
    "name": "ipython",
    "version": 3
   },
   "file_extension": ".py",
   "mimetype": "text/x-python",
   "name": "python",
   "nbconvert_exporter": "python",
   "pygments_lexer": "ipython3",
   "version": "3.8.2"
  }
 },
 "nbformat": 4,
 "nbformat_minor": 5
}
